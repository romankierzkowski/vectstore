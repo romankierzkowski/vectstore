{
 "cells": [
  {
   "cell_type": "code",
   "execution_count": 67,
   "metadata": {},
   "outputs": [
    {
     "name": "stdout",
     "output_type": "stream",
     "text": [
      "<Response [200]>\n",
      "<Response [200]>\n"
     ]
    }
   ],
   "source": [
    "import random\n",
    "import requests as r\n",
    "\n",
    "SIZE = 10\n",
    "\n",
    "create = {\n",
    "    'name': 'test',\n",
    "    'dimmensions': SIZE,\n",
    "}\n",
    "\n",
    "print(r.post('http://127.0.0.1:8000/index', json=create))\n",
    "\n",
    "\n",
    "for i in range(1000):\n",
    "    item = {\n",
    "        'id': i,\n",
    "        'vector': [random.gauss(0, 1) for z in range(SIZE)]\n",
    "    }\n",
    "    r.post('http://127.0.0.1:8000/index/test', json=item)\n",
    "\n",
    "save = {\n",
    "    'n_trees': 10,\n",
    "}\n",
    "\n",
    "print(r.put('http://127.0.0.1:8000/index/test', json=save))\n",
    "    "
   ]
  },
  {
   "cell_type": "code",
   "execution_count": 75,
   "metadata": {},
   "outputs": [
    {
     "name": "stdout",
     "output_type": "stream",
     "text": [
      "{'items': [10, 123, 1, 387, 168, 116, 67, 231, 393, 562]}\n"
     ]
    }
   ],
   "source": [
    "similar = {\n",
    "    'id': 10,\n",
    "}\n",
    "\n",
    "print(r.get('http://127.0.0.1:8000/index/test', params=similar).json())"
   ]
  },
  {
   "cell_type": "code",
   "execution_count": null,
   "metadata": {},
   "outputs": [],
   "source": []
  },
  {
   "cell_type": "code",
   "execution_count": null,
   "metadata": {},
   "outputs": [],
   "source": []
  }
 ],
 "metadata": {
  "kernelspec": {
   "display_name": "Python 3",
   "language": "python",
   "name": "python3"
  },
  "language_info": {
   "codemirror_mode": {
    "name": "ipython",
    "version": 3
   },
   "file_extension": ".py",
   "mimetype": "text/x-python",
   "name": "python",
   "nbconvert_exporter": "python",
   "pygments_lexer": "ipython3",
   "version": "3.7.0"
  }
 },
 "nbformat": 4,
 "nbformat_minor": 2
}
